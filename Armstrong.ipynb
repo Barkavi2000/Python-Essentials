{
  "nbformat": 4,
  "nbformat_minor": 0,
  "metadata": {
    "colab": {
      "name": "Armstrong ",
      "provenance": [],
      "authorship_tag": "ABX9TyM4QgvdFUM3tk5Sw0y4v4dB",
      "include_colab_link": true
    },
    "kernelspec": {
      "name": "python3",
      "display_name": "Python 3"
    }
  },
  "cells": [
    {
      "cell_type": "markdown",
      "metadata": {
        "id": "view-in-github",
        "colab_type": "text"
      },
      "source": [
        "<a href=\"https://colab.research.google.com/github/Barkavi2000/Python-Essentials/blob/master/Armstrong.ipynb\" target=\"_parent\"><img src=\"https://colab.research.google.com/assets/colab-badge.svg\" alt=\"Open In Colab\"/></a>"
      ]
    },
    {
      "cell_type": "code",
      "metadata": {
        "id": "5wSqxvOeqBh2",
        "colab_type": "code",
        "colab": {
          "base_uri": "https://localhost:8080/",
          "height": 51
        },
        "outputId": "e5bfab18-8d1e-49a6-8ff1-df2e18a95f81"
      },
      "source": [
        " \n",
        "lower = 1042000\n",
        "upper = 7026485 \n",
        " \n",
        "# To take input from the user\n",
        "# lower = int(input(\"Enter lower range: \"))\n",
        "# upper = int(input(\"Enter upper range: \"))\n",
        " \n",
        "for num in range(lower, upper + 1):\n",
        " \n",
        "   # order of number\n",
        "   order = len(str(num))\n",
        " \n",
        "   # initialize sum\n",
        "   sum = 0\n",
        " \n",
        "   # find the sum of the cube of each digit\n",
        "   temp = num\n",
        "   while temp > 0:\n",
        "       digit = temp % 10\n",
        "       sum += digit ** order\n",
        "       temp //= 10\n",
        " \n",
        "   if num == sum:\n",
        "       print( num)"
      ],
      "execution_count": 2,
      "outputs": [
        {
          "output_type": "stream",
          "text": [
            "1741725\n",
            "4210818\n"
          ],
          "name": "stdout"
        }
      ]
    }
  ]
}