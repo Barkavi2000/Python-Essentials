{
  "nbformat": 4,
  "nbformat_minor": 0,
  "metadata": {
    "colab": {
      "name": "Untitled1.ipynb",
      "provenance": [],
      "authorship_tag": "ABX9TyNm/ETEmjEXwTvzAJvmmHry",
      "include_colab_link": true
    },
    "kernelspec": {
      "name": "python3",
      "display_name": "Python 3"
    }
  },
  "cells": [
    {
      "cell_type": "markdown",
      "metadata": {
        "id": "view-in-github",
        "colab_type": "text"
      },
      "source": [
        "<a href=\"https://colab.research.google.com/github/Barkavi2000/Python-Essentials/blob/master/Untitled1.ipynb\" target=\"_parent\"><img src=\"https://colab.research.google.com/assets/colab-badge.svg\" alt=\"Open In Colab\"/></a>"
      ]
    },
    {
      "cell_type": "code",
      "metadata": {
        "id": "Yj794uUSycs-",
        "colab_type": "code",
        "colab": {
          "base_uri": "https://localhost:8080/",
          "height": 51
        },
        "outputId": "3d30b99e-5ef3-4f7e-bcdb-e54390cf3e05"
      },
      "source": [
        " \n",
        "lower = 1042000 \n",
        "upper = 7026465 \n",
        " \n",
        "# To take input from the user\n",
        "# lower = int(input(\"Enter lower range: \"))\n",
        "# upper = int(input(\"Enter upper range: \"))\n",
        " \n",
        "for num in range(lower, upper + 1):\n",
        " \n",
        "   # order of number\n",
        "   order = len(str(num))\n",
        " \n",
        "   # initialize sum\n",
        "   sum = 0\n",
        " \n",
        "   # find the sum of the cube of each digit\n",
        "   temp = num\n",
        "   while temp > 0:\n",
        "       digit = temp % 10\n",
        "       sum += digit ** order\n",
        "       temp //= 10\n",
        " \n",
        "   if num == sum:\n",
        "       print(num)"
      ],
      "execution_count": 3,
      "outputs": [
        {
          "output_type": "stream",
          "text": [
            "1741725\n",
            "4210818\n"
          ],
          "name": "stdout"
        }
      ]
    }
  ]
}